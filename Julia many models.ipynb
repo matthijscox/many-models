{
 "cells": [
  {
   "cell_type": "code",
   "execution_count": 1,
   "metadata": {
    "collapsed": false
   },
   "outputs": [],
   "source": [
    "using DataFrames\n",
    "using GLM\n",
    "using Requests"
   ]
  },
  {
   "cell_type": "markdown",
   "metadata": {},
   "source": [
    "# Load data"
   ]
  },
  {
   "cell_type": "code",
   "execution_count": 9,
   "metadata": {
    "collapsed": false
   },
   "outputs": [
    {
     "data": {
      "text/html": [
       "<table class=\"data-frame\"><thead><tr><th></th><th>num_group</th><th>cat_group</th><th>A</th><th>B</th><th>Z</th></tr></thead><tbody><tr><th>1</th><td>2000</td><td>Y</td><td>-0.135</td><td>-0.0095</td><td>-3232.24354363029</td></tr><tr><th>2</th><td>2000</td><td>Y</td><td>0.105</td><td>-0.0475</td><td>-1394.27444233176</td></tr><tr><th>3</th><td>2000</td><td>Y</td><td>0.045</td><td>-0.0475</td><td>-1857.96462068288</td></tr></tbody></table>"
      ],
      "text/plain": [
       "3×5 DataFrames.DataFrame\n",
       "│ Row │ num_group │ cat_group │ A      │ B       │ Z        │\n",
       "├─────┼───────────┼───────────┼────────┼─────────┼──────────┤\n",
       "│ 1   │ 2000      │ \"Y\"       │ -0.135 │ -0.0095 │ -3232.24 │\n",
       "│ 2   │ 2000      │ \"Y\"       │ 0.105  │ -0.0475 │ -1394.27 │\n",
       "│ 3   │ 2000      │ \"Y\"       │ 0.045  │ -0.0475 │ -1857.96 │"
      ]
     },
     "execution_count": 9,
     "metadata": {},
     "output_type": "execute_result"
    }
   ],
   "source": [
    "resp = get(\"https://raw.githubusercontent.com/matthijscox/many-models/master/many_models_data.csv\")\n",
    "df = readtable(IOBuffer(resp.data))\n",
    "df[end-2:end,:]"
   ]
  },
  {
   "cell_type": "code",
   "execution_count": 3,
   "metadata": {
    "collapsed": false
   },
   "outputs": [
    {
     "data": {
      "text/plain": [
       "(80, 5)"
      ]
     },
     "execution_count": 3,
     "metadata": {},
     "output_type": "execute_result"
    }
   ],
   "source": [
    "# Experimenting with selecting elements, works great!\n",
    "df[end-10:end,[:num_group,:cat_group,:Z]]\n",
    "idx = (df[:num_group].==1) .& (df[:cat_group].==\"X\")\n",
    "size(df[idx,:]) "
   ]
  },
  {
   "cell_type": "markdown",
   "metadata": {},
   "source": [
    "# Function definitions"
   ]
  },
  {
   "cell_type": "code",
   "execution_count": 4,
   "metadata": {
    "collapsed": false
   },
   "outputs": [
    {
     "data": {
      "text/html": [
       "<table class=\"data-frame\"><thead><tr><th></th><th>num_group</th><th>cat_group</th><th>A</th><th>B</th><th>Z</th><th>resid</th></tr></thead><tbody><tr><th>1</th><td>1</td><td>X</td><td>0.015</td><td>-0.0095</td><td>3868.33898544624</td><td>7.81984931630268</td></tr><tr><th>2</th><td>1</td><td>X</td><td>-0.105</td><td>0.1045</td><td>5307.37911587364</td><td>3.17880082490683</td></tr><tr><th>3</th><td>1</td><td>X</td><td>-0.135</td><td>-0.0475</td><td>3384.50800319023</td><td>8.422838793980645</td></tr></tbody></table>"
      ],
      "text/plain": [
       "3×6 DataFrames.DataFrame\n",
       "│ Row │ num_group │ cat_group │ A      │ B       │ Z       │ resid   │\n",
       "├─────┼───────────┼───────────┼────────┼─────────┼─────────┼─────────┤\n",
       "│ 1   │ 1         │ \"X\"       │ 0.015  │ -0.0095 │ 3868.34 │ 7.81985 │\n",
       "│ 2   │ 1         │ \"X\"       │ -0.105 │ 0.1045  │ 5307.38 │ 3.1788  │\n",
       "│ 3   │ 1         │ \"X\"       │ -0.135 │ -0.0475 │ 3384.51 │ 8.42284 │"
      ]
     },
     "execution_count": 4,
     "metadata": {},
     "output_type": "execute_result"
    }
   ],
   "source": [
    "# Using the GLM package\n",
    "function calc_poly_residuals(df)\n",
    "    # Q: how to input quadratic terms, such as A^2 and A^2*B?\n",
    "    OLS = fit(LinearModel,@formula(Z ~ A*B), df)\n",
    "    resid = df[:Z]-predict(OLS)\n",
    "end\n",
    "\n",
    "df2 = df[idx,:]\n",
    "df2[:resid] = calc_poly_residuals(df2)\n",
    "df2[1:3,:]"
   ]
  },
  {
   "cell_type": "code",
   "execution_count": 5,
   "metadata": {
    "collapsed": false
   },
   "outputs": [
    {
     "data": {
      "text/plain": [
       "80×10 Array{Float64,2}:\n",
       " 1.0   0.015  -0.0095  0.000225  -0.0001425  …   1.35375e-6   -8.57375e-7 \n",
       " 1.0  -0.105   0.1045  0.011025  -0.0109725     -0.00114663    0.00114117 \n",
       " 1.0  -0.135  -0.0475  0.018225   0.0064125     -0.000304594  -0.000107172\n",
       " 1.0   0.045   0.1425  0.002025   0.0064125      0.000913781   0.00289364 \n",
       " 1.0  -0.015  -0.1425  0.000225   0.0021375     -0.000304594  -0.00289364 \n",
       " 1.0   0.135   0.0475  0.018225   0.0064125  …   0.000304594   0.000107172\n",
       " 1.0   0.105  -0.1045  0.011025  -0.0109725      0.00114663   -0.00114117 \n",
       " 1.0  -0.015   0.0855  0.000225  -0.0012825     -0.000109654   0.000625026\n",
       " 1.0  -0.075   0.0095  0.005625  -0.0007125     -6.76875e-6    8.57375e-7 \n",
       " 1.0  -0.045  -0.0665  0.002025   0.0029925     -0.000199001  -0.00029408 \n",
       " 1.0   0.105  -0.0285  0.011025  -0.0029925  …   8.52863e-5   -2.31491e-5 \n",
       " 1.0   0.075   0.0855  0.005625   0.0064125      0.000548269   0.000625026\n",
       " 1.0  -0.045   0.1425  0.002025  -0.0064125     -0.000913781   0.00289364 \n",
       " ⋮                                           ⋱                            \n",
       " 1.0  -0.015   0.0475  0.000225  -0.0007125     -3.38437e-5    0.000107172\n",
       " 1.0   0.075   0.0475  0.005625   0.0035625      0.000169219   0.000107172\n",
       " 1.0  -0.105   0.0855  0.011025  -0.0089775  …  -0.000767576   0.000625026\n",
       " 1.0  -0.075   0.0855  0.005625  -0.0064125     -0.000548269   0.000625026\n",
       " 1.0  -0.045   0.0855  0.002025  -0.0038475     -0.000328961   0.000625026\n",
       " 1.0   0.045   0.0855  0.002025   0.0038475      0.000328961   0.000625026\n",
       " 1.0   0.105   0.0855  0.011025   0.0089775      0.000767576   0.000625026\n",
       " 1.0   0.135  -0.0095  0.018225  -0.0012825  …   1.21838e-5   -8.57375e-7 \n",
       " 1.0  -0.075  -0.0095  0.005625   0.0007125     -6.76875e-6   -8.57375e-7 \n",
       " 1.0  -0.135  -0.0095  0.018225   0.0012825     -1.21838e-5   -8.57375e-7 \n",
       " 1.0   0.105  -0.0475  0.011025  -0.0049875      0.000236906  -0.000107172\n",
       " 1.0   0.045  -0.0475  0.002025  -0.0021375      0.000101531  -0.000107172"
      ]
     },
     "execution_count": 5,
     "metadata": {},
     "output_type": "execute_result"
    }
   ],
   "source": [
    "# 2D polynomial model matrix\n",
    "function model_matrix_poly(x,y,poly_order=3)\n",
    "    ndat = length(x)\n",
    "    npoly = (poly_order+1)*(poly_order+2)\n",
    "    M = ones(ndat,npoly/2)\n",
    "    for pow = 1:poly_order\n",
    "        for pow_y = 0:pow\n",
    "            pow_x = pow-pow_y\n",
    "            M[:,round(Int,pow*(pow+1)/2+pow_y+1)] = (x.^pow_x .* y.^pow_y)\n",
    "        end\n",
    "    end\n",
    "    return M\n",
    "end\n",
    "\n",
    "# test it:\n",
    "M = model_matrix_poly(df2[:A],df2[:B],3)\n"
   ]
  },
  {
   "cell_type": "code",
   "execution_count": 6,
   "metadata": {
    "collapsed": false
   },
   "outputs": [
    {
     "data": {
      "text/plain": [
       "80-element Array{Float64,1}:\n",
       " -0.423496 \n",
       "  0.418609 \n",
       " -0.226803 \n",
       " -0.944066 \n",
       " -0.84604  \n",
       "  0.456776 \n",
       "  0.246115 \n",
       " -0.28419  \n",
       " -0.288782 \n",
       "  0.454852 \n",
       "  0.337804 \n",
       " -0.512187 \n",
       " -0.230121 \n",
       "  ⋮        \n",
       "  0.609347 \n",
       "  0.658001 \n",
       " -0.383448 \n",
       "  0.0302925\n",
       "  0.749151 \n",
       "  0.0227712\n",
       " -0.488238 \n",
       " -0.215116 \n",
       " -0.540411 \n",
       " -0.205108 \n",
       " -0.231882 \n",
       "  0.466321 "
      ]
     },
     "execution_count": 6,
     "metadata": {},
     "output_type": "execute_result"
    }
   ],
   "source": [
    "# using model matrices directly\n",
    "function calc_poly_residuals_with_matrices(df)        \n",
    "    # Using a model matrix and mldivide\n",
    "    M = model_matrix_poly(df[:A],df[:B])\n",
    "    y = convert(Array,df[:Z])\n",
    "    c = M \\ y\n",
    "    resid = y-M*c\n",
    "end\n",
    "\n",
    "calc_poly_residuals_with_matrices(df[idx,:])\n"
   ]
  },
  {
   "cell_type": "markdown",
   "metadata": {},
   "source": [
    "# Julia many models approach"
   ]
  },
  {
   "cell_type": "code",
   "execution_count": 10,
   "metadata": {
    "collapsed": false
   },
   "outputs": [
    {
     "name": "stdout",
     "output_type": "stream",
     "text": [
      "  1.441925 seconds (6.63 M allocations: 330.713 MiB, 6.72% gc time)\n",
      "  0.598673 seconds (6.91 M allocations: 540.053 MiB, 18.60% gc time)\n",
      "Julia difference to reference: 6.106226635438361e-15"
     ]
    }
   ],
   "source": [
    "# quite impressive timing for dataframes (0.7 seconds using matrix approach, 1.5s using GLM)\n",
    "\n",
    "@time resid = by(df,[:num_group,:cat_group],df -> DataFrame(resid = calc_poly_residuals(df)))[:resid]\n",
    "@time resid = by(df,[:num_group,:cat_group],df -> DataFrame(resid = calc_poly_residuals_with_matrices(df)))[:resid]\n",
    "\n",
    "# root-mean-square compares well to Matlab result\n",
    "mat_diff = sqrt(sum(resid.^2)/size(resid,1))-0.878223092545709\n",
    "print(\"Julia difference to reference: $mat_diff\")\n",
    "\n",
    "# reference:\n",
    "# https://juliadata.github.io/DataFrames.jl/stable/man/split_apply_combine/"
   ]
  }
 ],
 "metadata": {
  "kernelspec": {
   "display_name": "Julia 0.6.0",
   "language": "julia",
   "name": "julia-0.6"
  },
  "language_info": {
   "file_extension": ".jl",
   "mimetype": "application/julia",
   "name": "julia",
   "version": "0.6.0"
  }
 },
 "nbformat": 4,
 "nbformat_minor": 2
}
