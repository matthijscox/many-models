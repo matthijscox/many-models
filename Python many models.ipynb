{
 "cells": [
  {
   "cell_type": "code",
   "execution_count": 1,
   "metadata": {
    "collapsed": false
   },
   "outputs": [],
   "source": [
    "import numpy as np\n",
    "import pandas as pd\n",
    "import statsmodels.formula.api as sm\n",
    "import timeit"
   ]
  },
  {
   "cell_type": "markdown",
   "metadata": {},
   "source": [
    "# Load data"
   ]
  },
  {
   "cell_type": "code",
   "execution_count": 8,
   "metadata": {
    "collapsed": false
   },
   "outputs": [],
   "source": [
    "df = pd.read_csv(\"https://raw.githubusercontent.com/matthijscox/many-models/master/many_models_data.csv\")"
   ]
  },
  {
   "cell_type": "markdown",
   "metadata": {},
   "source": [
    "# Function definitions"
   ]
  },
  {
   "cell_type": "code",
   "execution_count": 9,
   "metadata": {
    "collapsed": false
   },
   "outputs": [],
   "source": [
    "# Model matrix creator\n",
    "def model_matrix_poly(x,y,poly_order=3):\n",
    "    ndat = len(x)\n",
    "    npoly = (poly_order+1)*(poly_order+2)\n",
    "    M = np.ones([ndat,npoly//2])\n",
    "    idx = 0\n",
    "    for pow in range(0,poly_order+1):\n",
    "        for pow_y in range(0,pow+1):\n",
    "            pow_x = pow-pow_y\n",
    "            M[:,idx] = (x**pow_x * y**pow_y)\n",
    "            idx += 1\n",
    "    return M\n",
    "\n",
    "# test it\n",
    "idx = (df['cat_group'].values=='X') & (df['num_group'].values==1) \n",
    "X = df.loc[idx,'A'].values\n",
    "Y = df.loc[idx,'B'].values\n",
    "M = model_matrix_poly(X,Y)"
   ]
  },
  {
   "cell_type": "code",
   "execution_count": 10,
   "metadata": {
    "collapsed": true
   },
   "outputs": [],
   "source": [
    "# using the statsmodels package\n",
    "# defining a simple linear model for testing, TODO building a 3rd order polynomial \n",
    "def calc_poly_residuals_ols(df):\n",
    "    f = 'Z ~ A + B'\n",
    "    resid = sm.ols(formula=f, data=df).fit().resid\n",
    "    return resid\n",
    "\n",
    "# using numpy.lstsq with handcrafted 3rd order polynomial model matrix\n",
    "def calc_poly_residuals_lstsq(X,Y,Z):\n",
    "       \n",
    "    # 3rd order 2D polynomial model matrix\n",
    "    M = np.array([X*0+1, X, Y, X*Y, X**2, X**2*Y, Y**2, X*Y**2, X**3, Y**3]).T\n",
    "    #M = model_matrix_poly(X,Y) # slightly slower\n",
    "    \n",
    "    # do the fit \n",
    "    coeff = np.linalg.lstsq(M, Z) # using the least-square regression function\n",
    "    coeff = coeff[0]\n",
    "    \n",
    "    # calculate residuals\n",
    "    resid = np.dot(M,coeff)-Z\n",
    "    return resid\n",
    "\n",
    "def calc_poly_residuals_lstsq_df(df):\n",
    "    X = df['A'].values\n",
    "    Y = df['B'].values\n",
    "    Z = df['Z'].values\n",
    "    resid = calc_poly_residuals_lstsq(X,Y,Z)\n",
    "    return resid"
   ]
  },
  {
   "cell_type": "markdown",
   "metadata": {},
   "source": [
    "# Pandas many models approach"
   ]
  },
  {
   "cell_type": "code",
   "execution_count": 5,
   "metadata": {
    "collapsed": false
   },
   "outputs": [
    {
     "name": "stdout",
     "output_type": "stream",
     "text": [
      "Pandas + statsmodels timing: 22.25 seconds\n"
     ]
    }
   ],
   "source": [
    "# see: https://pandas.pydata.org/pandas-docs/stable/groupby.html\n",
    "# already taking over 22 seconds...\n",
    "\n",
    "start = timeit.default_timer()\n",
    "\n",
    "# doing the groupby \n",
    "df_grouped = df.groupby(['cat_group', 'num_group'])\n",
    "\n",
    "# here we go, using apply\n",
    "tst = df_grouped.apply(calc_poly_residuals_ols)\n",
    "\n",
    "stop = timeit.default_timer()\n",
    "\n",
    "print('Pandas + statsmodels timing: {:.2f} seconds'.format(stop - start))"
   ]
  },
  {
   "cell_type": "code",
   "execution_count": 6,
   "metadata": {
    "collapsed": false
   },
   "outputs": [
    {
     "name": "stdout",
     "output_type": "stream",
     "text": [
      "Pandas + lstsq timing: 1.73 seconds\n",
      "Pandas difference with reference: 1.89e-14\n"
     ]
    }
   ],
   "source": [
    "# using numpy lstlq\n",
    "# 1.7 seconds\n",
    "\n",
    "start = timeit.default_timer()\n",
    "df_grouped = df.groupby(['cat_group', 'num_group']) # group by\n",
    "tst = df_grouped.apply(calc_poly_residuals_lstsq_df)   # apply\n",
    "stop = timeit.default_timer()\n",
    "\n",
    "print('Pandas + lstsq timing: {:.2f} seconds'.format(stop - start))\n",
    "\n",
    "# flatten doubly nested array (not generic for more groupings)\n",
    "resid = np.array([vec for arr in tst.values for vec in arr])\n",
    "\n",
    "# Root-mean-square comparison to Matlab reference (should be << 1):\n",
    "print('Pandas difference with reference: {:.2e}'.format(np.sqrt(sum(resid**2)/len(resid))-0.878223092545709))"
   ]
  },
  {
   "cell_type": "markdown",
   "metadata": {},
   "source": [
    "# Numpy many models approach"
   ]
  },
  {
   "cell_type": "code",
   "execution_count": 11,
   "metadata": {
    "collapsed": false
   },
   "outputs": [
    {
     "name": "stdout",
     "output_type": "stream",
     "text": [
      "Numpy timing: 3.49 seconds\n",
      "Numpy difference with reference: 1.35e-14\n"
     ]
    }
   ],
   "source": [
    "# construct unique groups (... need numpy 1.13 for unique rows)\n",
    "# result: 3.3 seconds\n",
    "\n",
    "start = timeit.default_timer()\n",
    "\n",
    "# constructing the groups by hand\n",
    "num_size = max(df['num_group'])\n",
    "grp = (pd.factorize(df['cat_group'].values)[0]+1)*num_size + df['num_group'].values\n",
    "grp_ids = np.unique(grp)\n",
    "\n",
    "# initialize residuals\n",
    "resid = np.zeros(df['Z'].values.shape)\n",
    "\n",
    "# get the values into arrays\n",
    "A = df['A'].values\n",
    "B = df['B'].values\n",
    "Z = df['Z'].values\n",
    "\n",
    "for g in grp_ids:\n",
    "    \n",
    "    idx = grp==g\n",
    "    # select the single group\n",
    "    # putting the dataframe calls outside the for loop is much faster\n",
    "    X = A[idx]\n",
    "    Y = B[idx]\n",
    "    Zi = Z[idx]\n",
    "    \n",
    "    # assign into residuals\n",
    "    resid[idx] = calc_poly_residuals_lstsq(X,Y,Zi)\n",
    "    \n",
    "stop = timeit.default_timer()\n",
    "print('Numpy timing: {:.2f} seconds'.format(stop - start))\n",
    "\n",
    "# Root-mean-square comparison to Matlab reference:\n",
    "print('Numpy difference with reference: {:.2e}'.format(np.sqrt(sum(resid**2)/len(resid))-0.878223092545709))"
   ]
  }
 ],
 "metadata": {
  "kernelspec": {
   "display_name": "Python 3",
   "language": "python",
   "name": "python3"
  },
  "language_info": {
   "codemirror_mode": {
    "name": "ipython",
    "version": 3
   },
   "file_extension": ".py",
   "mimetype": "text/x-python",
   "name": "python",
   "nbconvert_exporter": "python",
   "pygments_lexer": "ipython3",
   "version": "3.6.0"
  }
 },
 "nbformat": 4,
 "nbformat_minor": 2
}
